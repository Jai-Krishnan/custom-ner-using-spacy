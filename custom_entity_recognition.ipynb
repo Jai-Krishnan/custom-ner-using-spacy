{
  "nbformat": 4,
  "nbformat_minor": 0,
  "metadata": {
    "colab": {
      "name": "custom_entity_recognition.ipynb",
      "provenance": []
    },
    "kernelspec": {
      "name": "python3",
      "display_name": "Python 3"
    },
    "language_info": {
      "name": "python"
    }
  },
  "cells": [
    {
      "cell_type": "code",
      "metadata": {
        "id": "OqbavJ7myaMJ"
      },
      "source": [
        "Custom entity recognition"
      ],
      "execution_count": null,
      "outputs": []
    },
    {
      "cell_type": "code",
      "metadata": {
        "id": "jb8eJkl-eXRk"
      },
      "source": [
        "import spacy"
      ],
      "execution_count": 1,
      "outputs": []
    },
    {
      "cell_type": "code",
      "metadata": {
        "id": "MOaNRnIpfpvV"
      },
      "source": [
        "text=\"The end of the race was near .\""
      ],
      "execution_count": 2,
      "outputs": []
    },
    {
      "cell_type": "markdown",
      "metadata": {
        "id": "xE5gWQCoyO8V"
      },
      "source": [
        "\n",
        "Corpus used in spacy for the purpose of NER \n",
        "\n",
        "SpaCy uses the residual convolution network and incremental parsing with Bloom embeddings for NER."
      ]
    },
    {
      "cell_type": "code",
      "metadata": {
        "id": "Zc4K7K-brmXq"
      },
      "source": [
        "train={'classes': ['TIME',\n",
        "  'EVENT'],\n",
        " 'annotations': [[text,{'entities': [[4,7, 'TIME'],[15, 19, 'EVENT']]}]]}"
      ],
      "execution_count": 3,
      "outputs": []
    },
    {
      "cell_type": "code",
      "metadata": {
        "id": "IIygS7n9hNyk"
      },
      "source": [
        "nlp = spacy.blank('en')\n",
        "nlp.vocab.vectors.name = 'demo'\n",
        "ner = nlp.create_pipe('ner')\n",
        "nlp.add_pipe(ner, last = True)"
      ],
      "execution_count": 11,
      "outputs": []
    },
    {
      "cell_type": "code",
      "metadata": {
        "id": "UavjM7Zfhnwk"
      },
      "source": [
        "for label in train[\"classes\"]:\n",
        "  nlp.entity.add_label(label)"
      ],
      "execution_count": 12,
      "outputs": []
    },
    {
      "cell_type": "code",
      "metadata": {
        "id": "5i6rJ3sPs3k3"
      },
      "source": [
        "optimizer = nlp.begin_training()"
      ],
      "execution_count": 6,
      "outputs": []
    },
    {
      "cell_type": "code",
      "metadata": {
        "id": "4rqb3FINtAck"
      },
      "source": [
        "for i in range(100):\n",
        "  for text, annotations in train[\"annotations\"]:\n",
        "        if len(text) > 0:\n",
        "          nlp.update([text], [annotations], sgd=optimizer)"
      ],
      "execution_count": 8,
      "outputs": []
    },
    {
      "cell_type": "code",
      "metadata": {
        "id": "Q4FT7IPNtGDB"
      },
      "source": [
        "doc=nlp(text)"
      ],
      "execution_count": 9,
      "outputs": []
    },
    {
      "cell_type": "code",
      "metadata": {
        "colab": {
          "base_uri": "https://localhost:8080/"
        },
        "id": "7Oel1HEotZN-",
        "outputId": "4e8a1221-398f-4b72-cca9-4fb902c5f9de"
      },
      "source": [
        "for i in doc.ents:\n",
        "  print(i.text,i.label_)"
      ],
      "execution_count": 10,
      "outputs": [
        {
          "output_type": "stream",
          "text": [
            "end TIME\n",
            "race EVENT\n"
          ],
          "name": "stdout"
        }
      ]
    }
  ]
}